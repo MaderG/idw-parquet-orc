{
  "nbformat": 4,
  "nbformat_minor": 0,
  "metadata": {
    "colab": {
      "provenance": [],
      "authorship_tag": "ABX9TyPVw6A/Nw2Uo6TPwnuSTCJu",
      "include_colab_link": true
    },
    "kernelspec": {
      "name": "python3",
      "display_name": "Python 3"
    },
    "language_info": {
      "name": "python"
    }
  },
  "cells": [
    {
      "cell_type": "markdown",
      "metadata": {
        "id": "view-in-github",
        "colab_type": "text"
      },
      "source": [
        "<a href=\"https://colab.research.google.com/github/MaderG/idw-parquet-orc/blob/main/Parquet_e_ORC.ipynb\" target=\"_parent\"><img src=\"https://colab.research.google.com/assets/colab-badge.svg\" alt=\"Open In Colab\"/></a>"
      ]
    },
    {
      "cell_type": "markdown",
      "source": [
        "# **Demonstração Prática: Formatos Colunares Parquet e ORC**\n",
        "\n",
        "Iremos aprofundar um pouco mais sobre os formatos colunares (Parquet e ORC) comparados com formatos lineares (CSV), destacando as vantagens em termos de:\n",
        "- Tamanho de armazenamento\n",
        "- Velocidade de leitura e escrita\n",
        "- Eficiência em consultas analíticas\n",
        "- Técnicas de otimização"
      ],
      "metadata": {
        "id": "EUJyKPs2oYqB"
      }
    },
    {
      "cell_type": "markdown",
      "source": [
        "## 1. Instalação das Bibliotecas Necessárias\n",
        "\n",
        "Primeiro, vamos instalar as bibliotecas Python necessárias para trabalhar com Parquet e ORC."
      ],
      "metadata": {
        "id": "CI8avEtsootI"
      }
    },
    {
      "cell_type": "code",
      "source": [
        "!pip install pandas numpy pyarrow matplotlib seaborn --quiet"
      ],
      "metadata": {
        "id": "KZMpu_jsopWW"
      },
      "execution_count": null,
      "outputs": []
    },
    {
      "cell_type": "markdown",
      "source": [
        "## 2. Importação das Bibliotecas"
      ],
      "metadata": {
        "id": "9QU_RaZZos9h"
      }
    },
    {
      "cell_type": "code",
      "source": [
        "import pandas as pd\n",
        "import numpy as np\n",
        "import pyarrow as pa\n",
        "import pyarrow.parquet as pq\n",
        "import pyarrow.orc as orc\n",
        "import time\n",
        "import os\n",
        "\n",
        "# Configurações para melhor visualização\n",
        "pd.set_option('display.max_columns', None)"
      ],
      "metadata": {
        "id": "od3t-nYyowS2"
      },
      "execution_count": null,
      "outputs": []
    },
    {
      "cell_type": "markdown",
      "source": [
        "## 3. Operações Básicas em Parquet"
      ],
      "metadata": {
        "id": "eNHDFiog6zvQ"
      }
    },
    {
      "cell_type": "markdown",
      "source": [
        "### Escrita"
      ],
      "metadata": {
        "id": "_MVWkPgAB3G_"
      }
    },
    {
      "cell_type": "code",
      "source": [
        "import pyarrow as pa\n",
        "import pyarrow.parquet as pq\n",
        "\n",
        "# escrita\n",
        "\n",
        "df = pd.DataFrame({\n",
        "    'nome': ['Ana', 'José', 'Carla'],\n",
        "    'matricula': [987, 654, 321],\n",
        "    'curso': ['Matemática', 'Física', 'Química']\n",
        "})\n",
        "\n",
        "tabela = pa.Table.from_pandas(df)\n",
        "pq.write_table(tabela, 'alunos.parquet')\n",
        "print(\"Dados gravados em alunos.parquet\")\n",
        "\n"
      ],
      "metadata": {
        "colab": {
          "base_uri": "https://localhost:8080/"
        },
        "id": "W4E8z80M6204",
        "outputId": "d7170697-b5d9-4953-e18b-30e5881c57ad"
      },
      "execution_count": null,
      "outputs": [
        {
          "output_type": "stream",
          "name": "stdout",
          "text": [
            "Dados gravados em alunos.parquet\n"
          ]
        }
      ]
    },
    {
      "cell_type": "markdown",
      "source": [
        "1. Importamos as bibliotecas pyarrow e pyarrow.parquet.\n",
        "2. Criamos um DataFrame do pandas com os dados dos estudantes.\n",
        "3. Convertemos o DataFrame para uma tabela do PyArrow usando `pa.Table.from_pandas()`.\n",
        "4. Usamos a função `pq.write_table()` para escrever a tabela em um arquivo Parquet chamado\n",
        "estudantes.parquet.\n"
      ],
      "metadata": {
        "id": "WaCgeHkY7NFV"
      }
    },
    {
      "cell_type": "markdown",
      "source": [],
      "metadata": {
        "id": "NJsHmZrhBz4I"
      }
    },
    {
      "cell_type": "markdown",
      "source": [
        "### Leitura"
      ],
      "metadata": {
        "id": "wNWIcRfAB4ag"
      }
    },
    {
      "cell_type": "code",
      "source": [
        "tabela_leitura = pq.read_table('alunos.parquet')\n",
        "df_leitura = tabela_leitura.to_pandas()\n",
        "print(df_leitura)"
      ],
      "metadata": {
        "colab": {
          "base_uri": "https://localhost:8080/"
        },
        "id": "ZICIhx_qB5wO",
        "outputId": "bebd4507-101b-446d-e343-ea0a53c23f2f"
      },
      "execution_count": null,
      "outputs": [
        {
          "output_type": "stream",
          "name": "stdout",
          "text": [
            "    nome  matricula       curso\n",
            "0    Ana        987  Matemática\n",
            "1   José        654      Física\n",
            "2  Carla        321     Química\n"
          ]
        }
      ]
    },
    {
      "cell_type": "markdown",
      "source": [
        "1. Para a leitura, usamos a função ```pq.read_table()``` para ler o arquivo\n",
        "2. Convertemos a tabela do PyArrow para o DataFrame do pandas usando tabela_leitura.to_pandas()`\n",
        "3. Imprimimos\n",
        "\n"
      ],
      "metadata": {
        "id": "zGeluwXlB8t-"
      }
    },
    {
      "cell_type": "markdown",
      "source": [
        "## 4. Operações Básicas em ORC"
      ],
      "metadata": {
        "id": "j2Dq9nsoCoXi"
      }
    },
    {
      "cell_type": "markdown",
      "source": [
        "Para realizar as operações em ORC trocaremos, somente o pyarrow.pq, por pyarrow.orc, e repetiremos os mesmos processos"
      ],
      "metadata": {
        "id": "IDXFrAJXCqt4"
      }
    },
    {
      "cell_type": "markdown",
      "source": [
        "### Leitura"
      ],
      "metadata": {
        "id": "Xfm5C4bdC_iJ"
      }
    },
    {
      "cell_type": "code",
      "source": [
        "import pyarrow as pa\n",
        "import pyarrow.orc as orc\n",
        "import pandas as pd\n",
        "# Criando um DataFrame do pandas\n",
        "df = pd.DataFrame({\n",
        "    'nome': ['Ana', 'José', 'Carla'],\n",
        "    'matricula': [987, 654, 321],\n",
        "    'curso': ['Matemática', 'Física', 'Química']\n",
        "})\n",
        "# Convertendo o DataFrame para uma tabela do PyArrow\n",
        "tabela = pa.Table.from_pandas(df)\n",
        "# Escrevendo a tabela em um arquivo ORC\n",
        "orc.write_table(tabela, 'estudantes.orc')\n",
        "print(\"Dados gravados em estudantes.orc\")\n"
      ],
      "metadata": {
        "colab": {
          "base_uri": "https://localhost:8080/"
        },
        "id": "J4uoNpb7C4CM",
        "outputId": "28c3f2ee-23a8-4f62-99d3-cc8cd1bd9c8e"
      },
      "execution_count": null,
      "outputs": [
        {
          "output_type": "stream",
          "name": "stdout",
          "text": [
            "Dados gravados em estudantes.orc\n"
          ]
        }
      ]
    },
    {
      "cell_type": "markdown",
      "source": [
        "### Escrita"
      ],
      "metadata": {
        "id": "w1ghHb5yDB7x"
      }
    },
    {
      "cell_type": "code",
      "source": [
        "tabela_leitura = orc.read_table('estudantes.orc', columns=['nome', 'matricula'])\n",
        "df_leitura = tabela_leitura.to_pandas()\n",
        "print(df_leitura)\n"
      ],
      "metadata": {
        "colab": {
          "base_uri": "https://localhost:8080/"
        },
        "id": "UjufC2-GDDpT",
        "outputId": "8d7a348b-f11c-4c19-b155-4d36a3b3696c"
      },
      "execution_count": null,
      "outputs": [
        {
          "output_type": "stream",
          "name": "stdout",
          "text": [
            "    nome  matricula\n",
            "0    Ana        987\n",
            "1   José        654\n",
            "2  Carla        321\n"
          ]
        }
      ]
    },
    {
      "cell_type": "markdown",
      "source": [
        "## 5. Criação de Dados de Exemplo\n",
        "\n",
        "Vamos criar um conjunto de dados simulando registros de vendas de uma empresa varejista."
      ],
      "metadata": {
        "id": "JkUmijQsoznm"
      }
    },
    {
      "cell_type": "code",
      "source": [
        "def criar_dados_exemplo(n_registros=5_000_000):\n",
        "    np.random.seed(42)\n",
        "\n",
        "    df = pd.DataFrame({\n",
        "        'data': pd.date_range(start='2023-01-01', periods=n_registros, freq='30s'),\n",
        "        'id_produto': np.random.randint(1, 1000, n_registros),\n",
        "        'categoria': np.random.choice(['Eletrônicos', 'Roupas', 'Alimentos', 'Casa', 'Jardim'], n_registros),\n",
        "        'região': np.random.choice(['Norte', 'Sul', 'Leste', 'Oeste', 'Centro'], n_registros),\n",
        "        'valor_venda': np.random.uniform(10, 1000, n_registros).round(2),\n",
        "        'quantidade': np.random.randint(1, 10, n_registros),\n",
        "        'desconto': np.random.uniform(0, 0.3, n_registros).round(2),\n",
        "        'cliente_id': np.random.randint(1, 10000, n_registros),\n",
        "        'avaliação': np.random.randint(1, 6, n_registros)\n",
        "    })\n",
        "\n",
        "    # Calculando o valor total (com desconto aplicado)\n",
        "    df['valor_total'] = (df['valor_venda'] * df['quantidade'] * (1 - df['desconto'])).round(2)\n",
        "\n",
        "    return df\n",
        "\n",
        "df_vendas = criar_dados_exemplo()\n",
        "df_vendas.head()"
      ],
      "metadata": {
        "colab": {
          "base_uri": "https://localhost:8080/",
          "height": 206
        },
        "id": "RG7By4Hto0Tt",
        "outputId": "e5e1847c-8fee-419b-8eda-c8275d07d159"
      },
      "execution_count": null,
      "outputs": [
        {
          "output_type": "execute_result",
          "data": {
            "text/plain": [
              "                 data  id_produto    categoria  região  valor_venda  \\\n",
              "0 2023-01-01 00:00:00         103       Roupas  Centro       724.46   \n",
              "1 2023-01-01 00:00:30         436  Eletrônicos  Centro       549.63   \n",
              "2 2023-01-01 00:01:00         861  Eletrônicos  Centro       448.62   \n",
              "3 2023-01-01 00:01:30         271         Casa   Norte       677.69   \n",
              "4 2023-01-01 00:02:00         107  Eletrônicos   Leste       413.42   \n",
              "\n",
              "   quantidade  desconto  cliente_id  avaliação  valor_total  \n",
              "0           1      0.08        2754          1       666.50  \n",
              "1           4      0.13        4605          1      1912.71  \n",
              "2           4      0.18        2273          3      1471.47  \n",
              "3           4      0.10        4406          5      2439.68  \n",
              "4           4      0.15         341          5      1405.63  "
            ],
            "text/html": [
              "\n",
              "  <div id=\"df-b1061a6c-e68d-48c4-a063-a51fb16c9532\" class=\"colab-df-container\">\n",
              "    <div>\n",
              "<style scoped>\n",
              "    .dataframe tbody tr th:only-of-type {\n",
              "        vertical-align: middle;\n",
              "    }\n",
              "\n",
              "    .dataframe tbody tr th {\n",
              "        vertical-align: top;\n",
              "    }\n",
              "\n",
              "    .dataframe thead th {\n",
              "        text-align: right;\n",
              "    }\n",
              "</style>\n",
              "<table border=\"1\" class=\"dataframe\">\n",
              "  <thead>\n",
              "    <tr style=\"text-align: right;\">\n",
              "      <th></th>\n",
              "      <th>data</th>\n",
              "      <th>id_produto</th>\n",
              "      <th>categoria</th>\n",
              "      <th>região</th>\n",
              "      <th>valor_venda</th>\n",
              "      <th>quantidade</th>\n",
              "      <th>desconto</th>\n",
              "      <th>cliente_id</th>\n",
              "      <th>avaliação</th>\n",
              "      <th>valor_total</th>\n",
              "    </tr>\n",
              "  </thead>\n",
              "  <tbody>\n",
              "    <tr>\n",
              "      <th>0</th>\n",
              "      <td>2023-01-01 00:00:00</td>\n",
              "      <td>103</td>\n",
              "      <td>Roupas</td>\n",
              "      <td>Centro</td>\n",
              "      <td>724.46</td>\n",
              "      <td>1</td>\n",
              "      <td>0.08</td>\n",
              "      <td>2754</td>\n",
              "      <td>1</td>\n",
              "      <td>666.50</td>\n",
              "    </tr>\n",
              "    <tr>\n",
              "      <th>1</th>\n",
              "      <td>2023-01-01 00:00:30</td>\n",
              "      <td>436</td>\n",
              "      <td>Eletrônicos</td>\n",
              "      <td>Centro</td>\n",
              "      <td>549.63</td>\n",
              "      <td>4</td>\n",
              "      <td>0.13</td>\n",
              "      <td>4605</td>\n",
              "      <td>1</td>\n",
              "      <td>1912.71</td>\n",
              "    </tr>\n",
              "    <tr>\n",
              "      <th>2</th>\n",
              "      <td>2023-01-01 00:01:00</td>\n",
              "      <td>861</td>\n",
              "      <td>Eletrônicos</td>\n",
              "      <td>Centro</td>\n",
              "      <td>448.62</td>\n",
              "      <td>4</td>\n",
              "      <td>0.18</td>\n",
              "      <td>2273</td>\n",
              "      <td>3</td>\n",
              "      <td>1471.47</td>\n",
              "    </tr>\n",
              "    <tr>\n",
              "      <th>3</th>\n",
              "      <td>2023-01-01 00:01:30</td>\n",
              "      <td>271</td>\n",
              "      <td>Casa</td>\n",
              "      <td>Norte</td>\n",
              "      <td>677.69</td>\n",
              "      <td>4</td>\n",
              "      <td>0.10</td>\n",
              "      <td>4406</td>\n",
              "      <td>5</td>\n",
              "      <td>2439.68</td>\n",
              "    </tr>\n",
              "    <tr>\n",
              "      <th>4</th>\n",
              "      <td>2023-01-01 00:02:00</td>\n",
              "      <td>107</td>\n",
              "      <td>Eletrônicos</td>\n",
              "      <td>Leste</td>\n",
              "      <td>413.42</td>\n",
              "      <td>4</td>\n",
              "      <td>0.15</td>\n",
              "      <td>341</td>\n",
              "      <td>5</td>\n",
              "      <td>1405.63</td>\n",
              "    </tr>\n",
              "  </tbody>\n",
              "</table>\n",
              "</div>\n",
              "    <div class=\"colab-df-buttons\">\n",
              "\n",
              "  <div class=\"colab-df-container\">\n",
              "    <button class=\"colab-df-convert\" onclick=\"convertToInteractive('df-b1061a6c-e68d-48c4-a063-a51fb16c9532')\"\n",
              "            title=\"Convert this dataframe to an interactive table.\"\n",
              "            style=\"display:none;\">\n",
              "\n",
              "  <svg xmlns=\"http://www.w3.org/2000/svg\" height=\"24px\" viewBox=\"0 -960 960 960\">\n",
              "    <path d=\"M120-120v-720h720v720H120Zm60-500h600v-160H180v160Zm220 220h160v-160H400v160Zm0 220h160v-160H400v160ZM180-400h160v-160H180v160Zm440 0h160v-160H620v160ZM180-180h160v-160H180v160Zm440 0h160v-160H620v160Z\"/>\n",
              "  </svg>\n",
              "    </button>\n",
              "\n",
              "  <style>\n",
              "    .colab-df-container {\n",
              "      display:flex;\n",
              "      gap: 12px;\n",
              "    }\n",
              "\n",
              "    .colab-df-convert {\n",
              "      background-color: #E8F0FE;\n",
              "      border: none;\n",
              "      border-radius: 50%;\n",
              "      cursor: pointer;\n",
              "      display: none;\n",
              "      fill: #1967D2;\n",
              "      height: 32px;\n",
              "      padding: 0 0 0 0;\n",
              "      width: 32px;\n",
              "    }\n",
              "\n",
              "    .colab-df-convert:hover {\n",
              "      background-color: #E2EBFA;\n",
              "      box-shadow: 0px 1px 2px rgba(60, 64, 67, 0.3), 0px 1px 3px 1px rgba(60, 64, 67, 0.15);\n",
              "      fill: #174EA6;\n",
              "    }\n",
              "\n",
              "    .colab-df-buttons div {\n",
              "      margin-bottom: 4px;\n",
              "    }\n",
              "\n",
              "    [theme=dark] .colab-df-convert {\n",
              "      background-color: #3B4455;\n",
              "      fill: #D2E3FC;\n",
              "    }\n",
              "\n",
              "    [theme=dark] .colab-df-convert:hover {\n",
              "      background-color: #434B5C;\n",
              "      box-shadow: 0px 1px 3px 1px rgba(0, 0, 0, 0.15);\n",
              "      filter: drop-shadow(0px 1px 2px rgba(0, 0, 0, 0.3));\n",
              "      fill: #FFFFFF;\n",
              "    }\n",
              "  </style>\n",
              "\n",
              "    <script>\n",
              "      const buttonEl =\n",
              "        document.querySelector('#df-b1061a6c-e68d-48c4-a063-a51fb16c9532 button.colab-df-convert');\n",
              "      buttonEl.style.display =\n",
              "        google.colab.kernel.accessAllowed ? 'block' : 'none';\n",
              "\n",
              "      async function convertToInteractive(key) {\n",
              "        const element = document.querySelector('#df-b1061a6c-e68d-48c4-a063-a51fb16c9532');\n",
              "        const dataTable =\n",
              "          await google.colab.kernel.invokeFunction('convertToInteractive',\n",
              "                                                    [key], {});\n",
              "        if (!dataTable) return;\n",
              "\n",
              "        const docLinkHtml = 'Like what you see? Visit the ' +\n",
              "          '<a target=\"_blank\" href=https://colab.research.google.com/notebooks/data_table.ipynb>data table notebook</a>'\n",
              "          + ' to learn more about interactive tables.';\n",
              "        element.innerHTML = '';\n",
              "        dataTable['output_type'] = 'display_data';\n",
              "        await google.colab.output.renderOutput(dataTable, element);\n",
              "        const docLink = document.createElement('div');\n",
              "        docLink.innerHTML = docLinkHtml;\n",
              "        element.appendChild(docLink);\n",
              "      }\n",
              "    </script>\n",
              "  </div>\n",
              "\n",
              "\n",
              "<div id=\"df-64162f5f-d902-4a8c-bb52-5ae2aac50383\">\n",
              "  <button class=\"colab-df-quickchart\" onclick=\"quickchart('df-64162f5f-d902-4a8c-bb52-5ae2aac50383')\"\n",
              "            title=\"Suggest charts\"\n",
              "            style=\"display:none;\">\n",
              "\n",
              "<svg xmlns=\"http://www.w3.org/2000/svg\" height=\"24px\"viewBox=\"0 0 24 24\"\n",
              "     width=\"24px\">\n",
              "    <g>\n",
              "        <path d=\"M19 3H5c-1.1 0-2 .9-2 2v14c0 1.1.9 2 2 2h14c1.1 0 2-.9 2-2V5c0-1.1-.9-2-2-2zM9 17H7v-7h2v7zm4 0h-2V7h2v10zm4 0h-2v-4h2v4z\"/>\n",
              "    </g>\n",
              "</svg>\n",
              "  </button>\n",
              "\n",
              "<style>\n",
              "  .colab-df-quickchart {\n",
              "      --bg-color: #E8F0FE;\n",
              "      --fill-color: #1967D2;\n",
              "      --hover-bg-color: #E2EBFA;\n",
              "      --hover-fill-color: #174EA6;\n",
              "      --disabled-fill-color: #AAA;\n",
              "      --disabled-bg-color: #DDD;\n",
              "  }\n",
              "\n",
              "  [theme=dark] .colab-df-quickchart {\n",
              "      --bg-color: #3B4455;\n",
              "      --fill-color: #D2E3FC;\n",
              "      --hover-bg-color: #434B5C;\n",
              "      --hover-fill-color: #FFFFFF;\n",
              "      --disabled-bg-color: #3B4455;\n",
              "      --disabled-fill-color: #666;\n",
              "  }\n",
              "\n",
              "  .colab-df-quickchart {\n",
              "    background-color: var(--bg-color);\n",
              "    border: none;\n",
              "    border-radius: 50%;\n",
              "    cursor: pointer;\n",
              "    display: none;\n",
              "    fill: var(--fill-color);\n",
              "    height: 32px;\n",
              "    padding: 0;\n",
              "    width: 32px;\n",
              "  }\n",
              "\n",
              "  .colab-df-quickchart:hover {\n",
              "    background-color: var(--hover-bg-color);\n",
              "    box-shadow: 0 1px 2px rgba(60, 64, 67, 0.3), 0 1px 3px 1px rgba(60, 64, 67, 0.15);\n",
              "    fill: var(--button-hover-fill-color);\n",
              "  }\n",
              "\n",
              "  .colab-df-quickchart-complete:disabled,\n",
              "  .colab-df-quickchart-complete:disabled:hover {\n",
              "    background-color: var(--disabled-bg-color);\n",
              "    fill: var(--disabled-fill-color);\n",
              "    box-shadow: none;\n",
              "  }\n",
              "\n",
              "  .colab-df-spinner {\n",
              "    border: 2px solid var(--fill-color);\n",
              "    border-color: transparent;\n",
              "    border-bottom-color: var(--fill-color);\n",
              "    animation:\n",
              "      spin 1s steps(1) infinite;\n",
              "  }\n",
              "\n",
              "  @keyframes spin {\n",
              "    0% {\n",
              "      border-color: transparent;\n",
              "      border-bottom-color: var(--fill-color);\n",
              "      border-left-color: var(--fill-color);\n",
              "    }\n",
              "    20% {\n",
              "      border-color: transparent;\n",
              "      border-left-color: var(--fill-color);\n",
              "      border-top-color: var(--fill-color);\n",
              "    }\n",
              "    30% {\n",
              "      border-color: transparent;\n",
              "      border-left-color: var(--fill-color);\n",
              "      border-top-color: var(--fill-color);\n",
              "      border-right-color: var(--fill-color);\n",
              "    }\n",
              "    40% {\n",
              "      border-color: transparent;\n",
              "      border-right-color: var(--fill-color);\n",
              "      border-top-color: var(--fill-color);\n",
              "    }\n",
              "    60% {\n",
              "      border-color: transparent;\n",
              "      border-right-color: var(--fill-color);\n",
              "    }\n",
              "    80% {\n",
              "      border-color: transparent;\n",
              "      border-right-color: var(--fill-color);\n",
              "      border-bottom-color: var(--fill-color);\n",
              "    }\n",
              "    90% {\n",
              "      border-color: transparent;\n",
              "      border-bottom-color: var(--fill-color);\n",
              "    }\n",
              "  }\n",
              "</style>\n",
              "\n",
              "  <script>\n",
              "    async function quickchart(key) {\n",
              "      const quickchartButtonEl =\n",
              "        document.querySelector('#' + key + ' button');\n",
              "      quickchartButtonEl.disabled = true;  // To prevent multiple clicks.\n",
              "      quickchartButtonEl.classList.add('colab-df-spinner');\n",
              "      try {\n",
              "        const charts = await google.colab.kernel.invokeFunction(\n",
              "            'suggestCharts', [key], {});\n",
              "      } catch (error) {\n",
              "        console.error('Error during call to suggestCharts:', error);\n",
              "      }\n",
              "      quickchartButtonEl.classList.remove('colab-df-spinner');\n",
              "      quickchartButtonEl.classList.add('colab-df-quickchart-complete');\n",
              "    }\n",
              "    (() => {\n",
              "      let quickchartButtonEl =\n",
              "        document.querySelector('#df-64162f5f-d902-4a8c-bb52-5ae2aac50383 button');\n",
              "      quickchartButtonEl.style.display =\n",
              "        google.colab.kernel.accessAllowed ? 'block' : 'none';\n",
              "    })();\n",
              "  </script>\n",
              "</div>\n",
              "\n",
              "    </div>\n",
              "  </div>\n"
            ],
            "application/vnd.google.colaboratory.intrinsic+json": {
              "type": "dataframe",
              "variable_name": "df_vendas"
            }
          },
          "metadata": {},
          "execution_count": 67
        }
      ]
    },
    {
      "cell_type": "markdown",
      "source": [
        "## 6. Comparação de Formatos: CSV vs Parquet vs ORC\n",
        "\n",
        "Vamos comparar os três formatos em termos de tamanho de armazenamento e tempo de escrita."
      ],
      "metadata": {
        "id": "bKYdpzd9o7iw"
      }
    },
    {
      "cell_type": "code",
      "source": [
        "def medir_operacao(operacao, *args, **kwargs):\n",
        "        inicio = time.time()\n",
        "        resultado = operacao(*args, **kwargs)\n",
        "        tempo = time.time() - inicio\n",
        "        return resultado, tempo"
      ],
      "metadata": {
        "id": "cBt49y0WshIu"
      },
      "execution_count": null,
      "outputs": []
    },
    {
      "cell_type": "markdown",
      "source": [
        "### Salvando os dados em CSV"
      ],
      "metadata": {
        "id": "Oco9TJCDpHP6"
      }
    },
    {
      "cell_type": "code",
      "source": [
        "_, tempo_csv = medir_operacao(df_vendas.to_csv, 'vendas.csv', index=False)\n",
        "tamanho_csv = os.path.getsize('vendas.csv') / (1024 * 1024)  # MB"
      ],
      "metadata": {
        "id": "QcYIkTkOq4g1"
      },
      "execution_count": null,
      "outputs": []
    },
    {
      "cell_type": "markdown",
      "source": [
        "### Salvando os dados em Parquet"
      ],
      "metadata": {
        "id": "6Rk6naKWrMrl"
      }
    },
    {
      "cell_type": "code",
      "source": [
        "metodos_compressao = ['snappy', 'gzip', 'brotli', None]\n",
        "resultados_parquet = []\n",
        "\n",
        "for compressao in metodos_compressao:\n",
        "    nome_arquivo = f'vendas_{compressao if compressao else \"sem\"}.parquet'\n",
        "    _, tempo = medir_operacao(df_vendas.to_parquet, nome_arquivo, index=False, compression=compressao)\n",
        "    tamanho = os.path.getsize(nome_arquivo) / (1024 * 1024)  # MB\n",
        "    resultados_parquet.append({\n",
        "        'formato': f'Parquet ({compressao if compressao else \"sem compressão\"})',\n",
        "        'tempo': tempo,\n",
        "        'tamanho': tamanho\n",
        "    })"
      ],
      "metadata": {
        "id": "WE_lb7mzrMfq"
      },
      "execution_count": null,
      "outputs": []
    },
    {
      "cell_type": "markdown",
      "source": [
        "### Salvando em ORC"
      ],
      "metadata": {
        "id": "3ytWWyn9sNs0"
      }
    },
    {
      "cell_type": "code",
      "source": [
        "tabela = pa.Table.from_pandas(df_vendas)\n",
        "_, tempo_orc = medir_operacao(lambda: orc.write_table(tabela, 'vendas.orc'))\n",
        "tamanho_orc = os.path.getsize('vendas.orc') / (1024 * 1024)  # MB\n"
      ],
      "metadata": {
        "id": "QDQeZBNYsOrJ"
      },
      "execution_count": null,
      "outputs": []
    },
    {
      "cell_type": "markdown",
      "source": [
        "### Comparação entre os resultados"
      ],
      "metadata": {
        "id": "serSQnNwsTCb"
      }
    },
    {
      "cell_type": "code",
      "source": [
        "resultados_formatos = [\n",
        "    {'formato': 'CSV', 'tempo': tempo_csv, 'tamanho': tamanho_csv},\n",
        "    *resultados_parquet,\n",
        "    {'formato': 'ORC', 'tempo': tempo_orc, 'tamanho': tamanho_orc}\n",
        "]\n",
        "\n",
        "df_resultados = pd.DataFrame(resultados_formatos)\n",
        "df_resultados"
      ],
      "metadata": {
        "colab": {
          "base_uri": "https://localhost:8080/",
          "height": 237
        },
        "id": "4WHFWXFZsU2-",
        "outputId": "0292d164-365a-410b-bb6f-48d5e71362b0"
      },
      "execution_count": null,
      "outputs": [
        {
          "output_type": "execute_result",
          "data": {
            "text/plain": [
              "                    formato      tempo     tamanho\n",
              "0                       CSV  56.396391  315.710091\n",
              "1          Parquet (snappy)   3.706900   98.912908\n",
              "2            Parquet (gzip)  15.980401   77.658446\n",
              "3          Parquet (brotli)  22.070093   74.278552\n",
              "4  Parquet (sem compressão)   3.836204  117.854941\n",
              "5                       ORC   3.528821  205.957667"
            ],
            "text/html": [
              "\n",
              "  <div id=\"df-71369b44-4a3f-4ddc-9320-336380516cd8\" class=\"colab-df-container\">\n",
              "    <div>\n",
              "<style scoped>\n",
              "    .dataframe tbody tr th:only-of-type {\n",
              "        vertical-align: middle;\n",
              "    }\n",
              "\n",
              "    .dataframe tbody tr th {\n",
              "        vertical-align: top;\n",
              "    }\n",
              "\n",
              "    .dataframe thead th {\n",
              "        text-align: right;\n",
              "    }\n",
              "</style>\n",
              "<table border=\"1\" class=\"dataframe\">\n",
              "  <thead>\n",
              "    <tr style=\"text-align: right;\">\n",
              "      <th></th>\n",
              "      <th>formato</th>\n",
              "      <th>tempo</th>\n",
              "      <th>tamanho</th>\n",
              "    </tr>\n",
              "  </thead>\n",
              "  <tbody>\n",
              "    <tr>\n",
              "      <th>0</th>\n",
              "      <td>CSV</td>\n",
              "      <td>56.396391</td>\n",
              "      <td>315.710091</td>\n",
              "    </tr>\n",
              "    <tr>\n",
              "      <th>1</th>\n",
              "      <td>Parquet (snappy)</td>\n",
              "      <td>3.706900</td>\n",
              "      <td>98.912908</td>\n",
              "    </tr>\n",
              "    <tr>\n",
              "      <th>2</th>\n",
              "      <td>Parquet (gzip)</td>\n",
              "      <td>15.980401</td>\n",
              "      <td>77.658446</td>\n",
              "    </tr>\n",
              "    <tr>\n",
              "      <th>3</th>\n",
              "      <td>Parquet (brotli)</td>\n",
              "      <td>22.070093</td>\n",
              "      <td>74.278552</td>\n",
              "    </tr>\n",
              "    <tr>\n",
              "      <th>4</th>\n",
              "      <td>Parquet (sem compressão)</td>\n",
              "      <td>3.836204</td>\n",
              "      <td>117.854941</td>\n",
              "    </tr>\n",
              "    <tr>\n",
              "      <th>5</th>\n",
              "      <td>ORC</td>\n",
              "      <td>3.528821</td>\n",
              "      <td>205.957667</td>\n",
              "    </tr>\n",
              "  </tbody>\n",
              "</table>\n",
              "</div>\n",
              "    <div class=\"colab-df-buttons\">\n",
              "\n",
              "  <div class=\"colab-df-container\">\n",
              "    <button class=\"colab-df-convert\" onclick=\"convertToInteractive('df-71369b44-4a3f-4ddc-9320-336380516cd8')\"\n",
              "            title=\"Convert this dataframe to an interactive table.\"\n",
              "            style=\"display:none;\">\n",
              "\n",
              "  <svg xmlns=\"http://www.w3.org/2000/svg\" height=\"24px\" viewBox=\"0 -960 960 960\">\n",
              "    <path d=\"M120-120v-720h720v720H120Zm60-500h600v-160H180v160Zm220 220h160v-160H400v160Zm0 220h160v-160H400v160ZM180-400h160v-160H180v160Zm440 0h160v-160H620v160ZM180-180h160v-160H180v160Zm440 0h160v-160H620v160Z\"/>\n",
              "  </svg>\n",
              "    </button>\n",
              "\n",
              "  <style>\n",
              "    .colab-df-container {\n",
              "      display:flex;\n",
              "      gap: 12px;\n",
              "    }\n",
              "\n",
              "    .colab-df-convert {\n",
              "      background-color: #E8F0FE;\n",
              "      border: none;\n",
              "      border-radius: 50%;\n",
              "      cursor: pointer;\n",
              "      display: none;\n",
              "      fill: #1967D2;\n",
              "      height: 32px;\n",
              "      padding: 0 0 0 0;\n",
              "      width: 32px;\n",
              "    }\n",
              "\n",
              "    .colab-df-convert:hover {\n",
              "      background-color: #E2EBFA;\n",
              "      box-shadow: 0px 1px 2px rgba(60, 64, 67, 0.3), 0px 1px 3px 1px rgba(60, 64, 67, 0.15);\n",
              "      fill: #174EA6;\n",
              "    }\n",
              "\n",
              "    .colab-df-buttons div {\n",
              "      margin-bottom: 4px;\n",
              "    }\n",
              "\n",
              "    [theme=dark] .colab-df-convert {\n",
              "      background-color: #3B4455;\n",
              "      fill: #D2E3FC;\n",
              "    }\n",
              "\n",
              "    [theme=dark] .colab-df-convert:hover {\n",
              "      background-color: #434B5C;\n",
              "      box-shadow: 0px 1px 3px 1px rgba(0, 0, 0, 0.15);\n",
              "      filter: drop-shadow(0px 1px 2px rgba(0, 0, 0, 0.3));\n",
              "      fill: #FFFFFF;\n",
              "    }\n",
              "  </style>\n",
              "\n",
              "    <script>\n",
              "      const buttonEl =\n",
              "        document.querySelector('#df-71369b44-4a3f-4ddc-9320-336380516cd8 button.colab-df-convert');\n",
              "      buttonEl.style.display =\n",
              "        google.colab.kernel.accessAllowed ? 'block' : 'none';\n",
              "\n",
              "      async function convertToInteractive(key) {\n",
              "        const element = document.querySelector('#df-71369b44-4a3f-4ddc-9320-336380516cd8');\n",
              "        const dataTable =\n",
              "          await google.colab.kernel.invokeFunction('convertToInteractive',\n",
              "                                                    [key], {});\n",
              "        if (!dataTable) return;\n",
              "\n",
              "        const docLinkHtml = 'Like what you see? Visit the ' +\n",
              "          '<a target=\"_blank\" href=https://colab.research.google.com/notebooks/data_table.ipynb>data table notebook</a>'\n",
              "          + ' to learn more about interactive tables.';\n",
              "        element.innerHTML = '';\n",
              "        dataTable['output_type'] = 'display_data';\n",
              "        await google.colab.output.renderOutput(dataTable, element);\n",
              "        const docLink = document.createElement('div');\n",
              "        docLink.innerHTML = docLinkHtml;\n",
              "        element.appendChild(docLink);\n",
              "      }\n",
              "    </script>\n",
              "  </div>\n",
              "\n",
              "\n",
              "<div id=\"df-52167d0e-83f7-4e47-9b69-846f25a71f03\">\n",
              "  <button class=\"colab-df-quickchart\" onclick=\"quickchart('df-52167d0e-83f7-4e47-9b69-846f25a71f03')\"\n",
              "            title=\"Suggest charts\"\n",
              "            style=\"display:none;\">\n",
              "\n",
              "<svg xmlns=\"http://www.w3.org/2000/svg\" height=\"24px\"viewBox=\"0 0 24 24\"\n",
              "     width=\"24px\">\n",
              "    <g>\n",
              "        <path d=\"M19 3H5c-1.1 0-2 .9-2 2v14c0 1.1.9 2 2 2h14c1.1 0 2-.9 2-2V5c0-1.1-.9-2-2-2zM9 17H7v-7h2v7zm4 0h-2V7h2v10zm4 0h-2v-4h2v4z\"/>\n",
              "    </g>\n",
              "</svg>\n",
              "  </button>\n",
              "\n",
              "<style>\n",
              "  .colab-df-quickchart {\n",
              "      --bg-color: #E8F0FE;\n",
              "      --fill-color: #1967D2;\n",
              "      --hover-bg-color: #E2EBFA;\n",
              "      --hover-fill-color: #174EA6;\n",
              "      --disabled-fill-color: #AAA;\n",
              "      --disabled-bg-color: #DDD;\n",
              "  }\n",
              "\n",
              "  [theme=dark] .colab-df-quickchart {\n",
              "      --bg-color: #3B4455;\n",
              "      --fill-color: #D2E3FC;\n",
              "      --hover-bg-color: #434B5C;\n",
              "      --hover-fill-color: #FFFFFF;\n",
              "      --disabled-bg-color: #3B4455;\n",
              "      --disabled-fill-color: #666;\n",
              "  }\n",
              "\n",
              "  .colab-df-quickchart {\n",
              "    background-color: var(--bg-color);\n",
              "    border: none;\n",
              "    border-radius: 50%;\n",
              "    cursor: pointer;\n",
              "    display: none;\n",
              "    fill: var(--fill-color);\n",
              "    height: 32px;\n",
              "    padding: 0;\n",
              "    width: 32px;\n",
              "  }\n",
              "\n",
              "  .colab-df-quickchart:hover {\n",
              "    background-color: var(--hover-bg-color);\n",
              "    box-shadow: 0 1px 2px rgba(60, 64, 67, 0.3), 0 1px 3px 1px rgba(60, 64, 67, 0.15);\n",
              "    fill: var(--button-hover-fill-color);\n",
              "  }\n",
              "\n",
              "  .colab-df-quickchart-complete:disabled,\n",
              "  .colab-df-quickchart-complete:disabled:hover {\n",
              "    background-color: var(--disabled-bg-color);\n",
              "    fill: var(--disabled-fill-color);\n",
              "    box-shadow: none;\n",
              "  }\n",
              "\n",
              "  .colab-df-spinner {\n",
              "    border: 2px solid var(--fill-color);\n",
              "    border-color: transparent;\n",
              "    border-bottom-color: var(--fill-color);\n",
              "    animation:\n",
              "      spin 1s steps(1) infinite;\n",
              "  }\n",
              "\n",
              "  @keyframes spin {\n",
              "    0% {\n",
              "      border-color: transparent;\n",
              "      border-bottom-color: var(--fill-color);\n",
              "      border-left-color: var(--fill-color);\n",
              "    }\n",
              "    20% {\n",
              "      border-color: transparent;\n",
              "      border-left-color: var(--fill-color);\n",
              "      border-top-color: var(--fill-color);\n",
              "    }\n",
              "    30% {\n",
              "      border-color: transparent;\n",
              "      border-left-color: var(--fill-color);\n",
              "      border-top-color: var(--fill-color);\n",
              "      border-right-color: var(--fill-color);\n",
              "    }\n",
              "    40% {\n",
              "      border-color: transparent;\n",
              "      border-right-color: var(--fill-color);\n",
              "      border-top-color: var(--fill-color);\n",
              "    }\n",
              "    60% {\n",
              "      border-color: transparent;\n",
              "      border-right-color: var(--fill-color);\n",
              "    }\n",
              "    80% {\n",
              "      border-color: transparent;\n",
              "      border-right-color: var(--fill-color);\n",
              "      border-bottom-color: var(--fill-color);\n",
              "    }\n",
              "    90% {\n",
              "      border-color: transparent;\n",
              "      border-bottom-color: var(--fill-color);\n",
              "    }\n",
              "  }\n",
              "</style>\n",
              "\n",
              "  <script>\n",
              "    async function quickchart(key) {\n",
              "      const quickchartButtonEl =\n",
              "        document.querySelector('#' + key + ' button');\n",
              "      quickchartButtonEl.disabled = true;  // To prevent multiple clicks.\n",
              "      quickchartButtonEl.classList.add('colab-df-spinner');\n",
              "      try {\n",
              "        const charts = await google.colab.kernel.invokeFunction(\n",
              "            'suggestCharts', [key], {});\n",
              "      } catch (error) {\n",
              "        console.error('Error during call to suggestCharts:', error);\n",
              "      }\n",
              "      quickchartButtonEl.classList.remove('colab-df-spinner');\n",
              "      quickchartButtonEl.classList.add('colab-df-quickchart-complete');\n",
              "    }\n",
              "    (() => {\n",
              "      let quickchartButtonEl =\n",
              "        document.querySelector('#df-52167d0e-83f7-4e47-9b69-846f25a71f03 button');\n",
              "      quickchartButtonEl.style.display =\n",
              "        google.colab.kernel.accessAllowed ? 'block' : 'none';\n",
              "    })();\n",
              "  </script>\n",
              "</div>\n",
              "\n",
              "  <div id=\"id_fee60866-f9d2-47fa-ab3d-86eacc891b81\">\n",
              "    <style>\n",
              "      .colab-df-generate {\n",
              "        background-color: #E8F0FE;\n",
              "        border: none;\n",
              "        border-radius: 50%;\n",
              "        cursor: pointer;\n",
              "        display: none;\n",
              "        fill: #1967D2;\n",
              "        height: 32px;\n",
              "        padding: 0 0 0 0;\n",
              "        width: 32px;\n",
              "      }\n",
              "\n",
              "      .colab-df-generate:hover {\n",
              "        background-color: #E2EBFA;\n",
              "        box-shadow: 0px 1px 2px rgba(60, 64, 67, 0.3), 0px 1px 3px 1px rgba(60, 64, 67, 0.15);\n",
              "        fill: #174EA6;\n",
              "      }\n",
              "\n",
              "      [theme=dark] .colab-df-generate {\n",
              "        background-color: #3B4455;\n",
              "        fill: #D2E3FC;\n",
              "      }\n",
              "\n",
              "      [theme=dark] .colab-df-generate:hover {\n",
              "        background-color: #434B5C;\n",
              "        box-shadow: 0px 1px 3px 1px rgba(0, 0, 0, 0.15);\n",
              "        filter: drop-shadow(0px 1px 2px rgba(0, 0, 0, 0.3));\n",
              "        fill: #FFFFFF;\n",
              "      }\n",
              "    </style>\n",
              "    <button class=\"colab-df-generate\" onclick=\"generateWithVariable('df_resultados')\"\n",
              "            title=\"Generate code using this dataframe.\"\n",
              "            style=\"display:none;\">\n",
              "\n",
              "  <svg xmlns=\"http://www.w3.org/2000/svg\" height=\"24px\"viewBox=\"0 0 24 24\"\n",
              "       width=\"24px\">\n",
              "    <path d=\"M7,19H8.4L18.45,9,17,7.55,7,17.6ZM5,21V16.75L18.45,3.32a2,2,0,0,1,2.83,0l1.4,1.43a1.91,1.91,0,0,1,.58,1.4,1.91,1.91,0,0,1-.58,1.4L9.25,21ZM18.45,9,17,7.55Zm-12,3A5.31,5.31,0,0,0,4.9,8.1,5.31,5.31,0,0,0,1,6.5,5.31,5.31,0,0,0,4.9,4.9,5.31,5.31,0,0,0,6.5,1,5.31,5.31,0,0,0,8.1,4.9,5.31,5.31,0,0,0,12,6.5,5.46,5.46,0,0,0,6.5,12Z\"/>\n",
              "  </svg>\n",
              "    </button>\n",
              "    <script>\n",
              "      (() => {\n",
              "      const buttonEl =\n",
              "        document.querySelector('#id_fee60866-f9d2-47fa-ab3d-86eacc891b81 button.colab-df-generate');\n",
              "      buttonEl.style.display =\n",
              "        google.colab.kernel.accessAllowed ? 'block' : 'none';\n",
              "\n",
              "      buttonEl.onclick = () => {\n",
              "        google.colab.notebook.generateWithVariable('df_resultados');\n",
              "      }\n",
              "      })();\n",
              "    </script>\n",
              "  </div>\n",
              "\n",
              "    </div>\n",
              "  </div>\n"
            ],
            "application/vnd.google.colaboratory.intrinsic+json": {
              "type": "dataframe",
              "variable_name": "df_resultados",
              "summary": "{\n  \"name\": \"df_resultados\",\n  \"rows\": 6,\n  \"fields\": [\n    {\n      \"column\": \"formato\",\n      \"properties\": {\n        \"dtype\": \"string\",\n        \"num_unique_values\": 6,\n        \"samples\": [\n          \"CSV\",\n          \"Parquet (snappy)\",\n          \"ORC\"\n        ],\n        \"semantic_type\": \"\",\n        \"description\": \"\"\n      }\n    },\n    {\n      \"column\": \"tempo\",\n      \"properties\": {\n        \"dtype\": \"number\",\n        \"std\": 20.533981903454553,\n        \"min\": 3.5288212299346924,\n        \"max\": 56.39639091491699,\n        \"num_unique_values\": 6,\n        \"samples\": [\n          56.39639091491699,\n          3.7069003582000732,\n          3.5288212299346924\n        ],\n        \"semantic_type\": \"\",\n        \"description\": \"\"\n      }\n    },\n    {\n      \"column\": \"tamanho\",\n      \"properties\": {\n        \"dtype\": \"number\",\n        \"std\": 95.06406340927761,\n        \"min\": 74.27855205535889,\n        \"max\": 315.71009063720703,\n        \"num_unique_values\": 6,\n        \"samples\": [\n          315.71009063720703,\n          98.91290760040283,\n          205.95766735076904\n        ],\n        \"semantic_type\": \"\",\n        \"description\": \"\"\n      }\n    }\n  ]\n}"
            }
          },
          "metadata": {},
          "execution_count": 72
        }
      ]
    },
    {
      "cell_type": "markdown",
      "source": [
        "### **Análise dos Resultados**\n",
        "\n",
        "**1. Tempo de Escrita**\n",
        "\n",
        "- O CSV foi o formato mais lento para escrita, levando 56.39 segundos, enquanto o Parquet com compressão Snappy foi o mais rápido, com apenas 3.70 segundos.\n",
        "\n",
        "- O ORC também se destacou com um tempo de escrita de 3.52 segundos, sendo uma ótima opção para cenários onde a leitura é mais frequente que a escrita.\n",
        "\n",
        "- A compressão Brotli no Parquet, apesar de oferecer o menor tamanho de arquivo (74.27 MB), foi a mais lenta para escrita, levando 22.07 segundos.\n",
        "\n",
        "**2. Tamanho do Arquivo**\n",
        "\n",
        "- O CSV gerou o maior arquivo (315.71 MB), o que pode ser um problema em cenários de armazenamento em larga escala.\n",
        "\n",
        "- O Parquet com Brotli ofereceu o menor tamanho de arquivo (74.27 MB), seguido pelo Parquet com Gzip (77.658446 MB). Isso mostra que a escolha da compressão pode impactar significativamente o espaço em disco.\n",
        "\n",
        "- O ORC gerou um arquivo de 205.957667 MB, maior que o Parquet, mas ainda significativamente menor que o CSV.\n",
        "\n",
        "**3. Compressão no Parquet**\n",
        "\n",
        "- Snappy ofereceu um bom equilíbrio entre tempo de escrita e tamanho do arquivo, sendo ideal para cenários onde a velocidade é crítica.\n",
        "\n",
        "- Gzip e Brotli são mais eficientes em termos de espaço, mas exigem mais tempo de processamento, sendo mais adequados para cenários onde o armazenamento é prioritário.\n",
        "\n",
        "- O Parquet sem compressão ainda é uma opção viável, especialmente quando a compressão não é necessária ou quando se deseja maximizar a velocidade de escrita."
      ],
      "metadata": {
        "id": "oS55BKbM8Zif"
      }
    },
    {
      "cell_type": "markdown",
      "source": [
        "## 7. Demonstração de Leitura Seletiva de Colunas\n",
        "\n",
        "Uma das principais vantagens dos formatos colunares é a capacidade de ler apenas as colunas necessárias."
      ],
      "metadata": {
        "id": "3MdWDioNtIq_"
      }
    },
    {
      "cell_type": "code",
      "source": [
        "colunas_selecao = ['data', 'região', 'valor_total']\n",
        "\n",
        "# Leitura completa do CSV\n",
        "_, tempo_csv_completo = medir_operacao(pd.read_csv, 'vendas.csv')\n",
        "print(f\"Tempo para ler CSV completo: {tempo_csv_completo:.2f} segundos\")\n",
        "\n",
        "# Leitura seletiva do CSV (apenas algumas colunas)\n",
        "_, tempo_csv_colunas = medir_operacao(pd.read_csv, 'vendas.csv', usecols=colunas_selecao)\n",
        "print(f\"Tempo para ler CSV (apenas 3 colunas): {tempo_csv_colunas:.2f} segundos\")\n",
        "print(f\"Redução de tempo no CSV: {(tempo_csv_completo - tempo_csv_colunas) / tempo_csv_completo * 100:.2f}%\")\n",
        "\n",
        "# Leitura completa do Parquet\n",
        "_, tempo_parquet_completo = medir_operacao(pd.read_parquet, 'vendas_snappy.parquet')\n",
        "print(f\"\\nTempo para ler Parquet completo: {tempo_parquet_completo:.2f} segundos\")\n",
        "\n",
        "# Leitura seletiva do Parquet (apenas algumas colunas)\n",
        "_, tempo_parquet_colunas = medir_operacao(pd.read_parquet, 'vendas_snappy.parquet', columns=colunas_selecao)\n",
        "print(f\"Tempo para ler Parquet (apenas 3 colunas): {tempo_parquet_colunas:.2f} segundos\")\n",
        "print(f\"Redução de tempo no Parquet: {(tempo_parquet_completo - tempo_parquet_colunas) / tempo_parquet_completo * 100:.2f}%\")\n",
        "\n",
        "# Leitura completa do ORC\n",
        "_, tempo_orc_completo = medir_operacao(pd.read_orc, 'vendas.orc')\n",
        "print(f\"\\nTempo para ler ORC completo: {tempo_orc_completo:.2f} segundos\")\n",
        "\n",
        "# Leitura seletiva do ORC (apenas algumas colunas)\n",
        "_, tempo_orc_colunas = medir_operacao(pd.read_orc, 'vendas.orc', columns=colunas_selecao)\n",
        "print(f\"Tempo para ler ORC (apenas 3 colunas): {tempo_orc_colunas:.2f} segundos\")\n",
        "print(f\"Redução de tempo no ORC: {(tempo_orc_completo - tempo_orc_colunas) / tempo_orc_completo * 100:.2f}%\")\n"
      ],
      "metadata": {
        "colab": {
          "base_uri": "https://localhost:8080/"
        },
        "id": "sb22EUZztJUv",
        "outputId": "0be5834e-8e90-49d0-9ad8-d333cb28166b"
      },
      "execution_count": null,
      "outputs": [
        {
          "output_type": "stream",
          "name": "stdout",
          "text": [
            "Tempo para ler CSV completo: 11.76 segundos\n",
            "Tempo para ler CSV (apenas 3 colunas): 7.27 segundos\n",
            "Redução de tempo no CSV: 38.21%\n",
            "\n",
            "Tempo para ler Parquet completo: 1.38 segundos\n",
            "Tempo para ler Parquet (apenas 3 colunas): 1.04 segundos\n",
            "Redução de tempo no Parquet: 24.79%\n",
            "\n",
            "Tempo para ler ORC completo: 1.94 segundos\n",
            "Tempo para ler ORC (apenas 3 colunas): 0.61 segundos\n",
            "Redução de tempo no ORC: 68.54%\n"
          ]
        }
      ]
    },
    {
      "cell_type": "markdown",
      "source": [
        "### Análise dos Resultados\n",
        "\n",
        "**Leitura Completa vs. Leitura Seletiva**\n",
        "\n",
        "- **CSV:** A leitura completa levou 11.76 segundos, enquanto a leitura seletiva (apenas 3 colunas) levou 7.27 segundos. Isso mostra que o CSV não se beneficia da leitura seletiva, pois o formato linear exige a leitura de todo o arquivo, independentemente das colunas selecionadas.\n",
        "\n",
        "- Parquet e ORC: Ambos possuiram leituras completas rápidas e seletivas mais rápidas ainda\n",
        "\n",
        "**Comparação entre Formatos**\n",
        "\n",
        "- O Parquet e o ORC são muito mais eficientes que o CSV em termos de tempo de leitura, especialmente quando apenas algumas colunas são necessárias. Isso ocorre porque ambos os formatos armazenam os dados por coluna, permitindo que apenas as colunas relevantes sejam lidas do disco.\n",
        "\n",
        "**Benefícios da Leitura Seletiva**\n",
        "\n",
        "- Redução do tempo de leitura: Apenas as colunas necessárias são carregadas, o que é ideal para consultas analíticas.\n",
        "\n",
        "- Economia de memória: Menos dados são carregados na memória, o que é crucial em cenários de Big Data.\n",
        "\n",
        "- Melhor desempenho em consultas complexas: Consultas que envolvem agregações ou filtros em colunas específicas são executadas mais rapidamente."
      ],
      "metadata": {
        "id": "Wv5Tqwdp9Ffy"
      }
    },
    {
      "cell_type": "markdown",
      "source": [
        "## Conclusão"
      ],
      "metadata": {
        "id": "TOL9Qag1DPpC"
      }
    },
    {
      "cell_type": "markdown",
      "source": [
        "Ao longo deste tutorial, exploramos como os formatos Parquet e ORC oferecem otimização significativa para armazenamento e processamento de grandes volumes de dados. Vimos que esses formatos possibilitam uma redução no espaço ocupado, melhor desempenho em consultas e maior compatibilidade com sistemas de Big Data.\n",
        "\n",
        "Caso seu objetivo seja trabalhar com grandes conjuntos de dados, a escolha entre Parquet e ORC dependerá de cada projeto, como leitura/escrita, compressão. Independentemente da escolha, esses formatos garantem uma melhoria considerável na eficiência do processamento de dados."
      ],
      "metadata": {
        "id": "fsyEMCZsDROD"
      }
    }
  ]
}